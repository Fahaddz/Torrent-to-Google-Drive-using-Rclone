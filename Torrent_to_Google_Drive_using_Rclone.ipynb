{
  "nbformat": 4,
  "nbformat_minor": 0,
  "metadata": {
    "colab": {
      "provenance": [],
      "collapsed_sections": [
        "4E-uzYrv5o0B",
        "8uUbyNZHi8a5",
        "6I2huqscJEPn"
      ]
    },
    "kernelspec": {
      "name": "python3",
      "display_name": "Python 3"
    },
    "accelerator": "GPU"
  },
  "cells": [
    {
      "cell_type": "markdown",
      "metadata": {
        "id": "HGctdySsIGFS"
      },
      "source": [
        "# **<font color='blue'> Torrent to Google Drive using Rclone - Shared by [Fahaddz](https://github.com/Fahaddz) </font>**\n"
      ]
    },
    {
      "cell_type": "code",
      "source": [
        "#@title 1. Keep this tab alive to prevent Colab from disconnecting you { display-mode: \"form\" }\n",
        "\n",
        "#@markdown Press play on the music player that will appear below:\n",
        "%%html\n",
        "<audio src=\"https://oobabooga.github.io/silence.m4a\" controls>"
      ],
      "metadata": {
        "colab": {
          "base_uri": "https://localhost:8080/",
          "height": 61
        },
        "id": "q5CVRkPhEgwM",
        "outputId": "3104fddd-8a16-4182-8a40-22bf256fffbc"
      },
      "execution_count": 1,
      "outputs": [
        {
          "output_type": "display_data",
          "data": {
            "text/plain": [
              "<IPython.core.display.HTML object>"
            ],
            "text/html": [
              "<audio src=\"https://oobabooga.github.io/silence.m4a\" controls>\n"
            ]
          },
          "metadata": {}
        }
      ]
    },
    {
      "cell_type": "markdown",
      "metadata": {
        "id": "4E-uzYrv5o0B"
      },
      "source": [
        "---\n",
        "#Mount Google Drive with Rclone"
      ]
    },
    {
      "cell_type": "code",
      "metadata": {
        "id": "iroeLPFdXbif",
        "colab": {
          "base_uri": "https://localhost:8080/",
          "height": 82
        },
        "outputId": "ab9d3e99-2ce6-4b09-9c71-4000c0cb2422"
      },
      "source": [
        "#@markdown <h3>📝 Note: Run this before using Rclone.</h3>\n",
        "#@markdown <h4>📝 Upload an rclone profile</4>\n",
        "Setup_Time_Zone = False \n",
        "\n",
        "import os; from google.colab import files; from IPython.display import HTML, clear_output\n",
        "\n",
        "def upload_conf():\n",
        "  try:\n",
        "    display(HTML(\"<h2 style=\\\"font-family:Trebuchet MS;color:#446785;\\\">Please upload the config file of rclone (rclone.conf) from your computer.</h2><br>\"))\n",
        "    UploadConfig = files.upload().keys()\n",
        "    clear_output(wait=True)\n",
        "    if len(UploadConfig) == 0:\n",
        "      return display(HTML(\"<center><h2 style=\\\"font-family:Trebuchet MS;color:#ce2121;\\\">File upload has been cancelled during upload file.</h2><br></center>\"))\n",
        "    elif len(UploadConfig) == 1:\n",
        "      for fn in UploadConfig:\n",
        "        if os.path.isfile(\"/content/\" + fn) == True:\n",
        "          os.environ[\"rclone_conf\"] = fn\n",
        "          !mv -f \"$rclone_conf\" /root/.rclone.conf\n",
        "          !chmod 666 /root/.rclone.conf\n",
        "          if Setup_Time_Zone == True:\n",
        "            !sudo dpkg-reconfigure tzdata\n",
        "            clear_output(wait=True)\n",
        "          if os.path.isfile(\"/usr/bin/rclone\") == True:\n",
        "            return display(HTML(\"<center><h2 style=\\\"font-family:Trebuchet MS;color:#00b24c;\\\">Config has been changed.</h2><br></center>\"))\n",
        "          else:\n",
        "            !rm -rf /content/sample_data/\n",
        "            !curl -s https://rclone.org/install.sh | sudo bash\n",
        "            clear_output(wait=True)\n",
        "            return display(HTML(\"<center><h2 style=\\\"font-family:Trebuchet MS;color:#446785;\\\">Installation has been successfully completed.</h2><br></center>\"))\n",
        "        else:\n",
        "          return display(HTML(\"<center><h2 style=\\\"font-family:Trebuchet MS;color:#ce2121;\\\">File upload has been failed during upload file.</h2><br></center>\"))\n",
        "    else:\n",
        "      for fn in UploadConfig:\n",
        "        os.environ[\"rclone_conf\"] = fn\n",
        "        !rm -f \"$rclone_conf\"\n",
        "      return display(HTML(\"<center><h2 style=\\\"font-family:Trebuchet MS;color:#ce2121;\\\">Please uploading only one file at a time.</h2><br></center>\"))\n",
        "  except:\n",
        "    clear_output(wait=True)\n",
        "    return display(HTML(\"<center><h2 style=\\\"font-family:Trebuchet MS;color:#ce2121;\\\">Error occurred during upload file.</h2><br></center>\"))\n",
        "\n",
        "upload_conf()"
      ],
      "execution_count": 3,
      "outputs": [
        {
          "output_type": "display_data",
          "data": {
            "text/plain": [
              "<IPython.core.display.HTML object>"
            ],
            "text/html": [
              "<center><h2 style=\"font-family:Trebuchet MS;color:#00b24c;\">Config has been changed.</h2><br></center>"
            ]
          },
          "metadata": {}
        }
      ]
    },
    {
      "cell_type": "markdown",
      "metadata": {
        "id": "8uUbyNZHi8a5"
      },
      "source": [
        "---\n",
        "# <img src='https://www.libtorrent.org/img/logo-color-text.png' height=\"45\" alt=\"JDownloader\"/>"
      ]
    },
    {
      "cell_type": "code",
      "source": [
        "#@markdown <h3> ⬅ Install LibTorrent\n",
        "!python -m pip install --upgrade pip setuptools wheel && python -m pip install lbry-libtorrent && apt install python3-libtorrent"
      ],
      "metadata": {
        "colab": {
          "base_uri": "https://localhost:8080/"
        },
        "id": "-1RzndOvE8rc",
        "outputId": "ad46ea91-8b39-4679-deb3-cc0727433c72"
      },
      "execution_count": 7,
      "outputs": [
        {
          "output_type": "stream",
          "name": "stdout",
          "text": [
            "Looking in indexes: https://pypi.org/simple, https://us-python.pkg.dev/colab-wheels/public/simple/\n",
            "Requirement already satisfied: pip in /usr/local/lib/python3.10/dist-packages (23.1.2)\n",
            "Requirement already satisfied: setuptools in /usr/local/lib/python3.10/dist-packages (67.7.2)\n",
            "Requirement already satisfied: wheel in /usr/local/lib/python3.10/dist-packages (0.40.0)\n",
            "\u001b[31mERROR: Operation cancelled by user\u001b[0m\u001b[31m\n",
            "\u001b[0m"
          ]
        }
      ]
    },
    {
      "cell_type": "code",
      "metadata": {
        "id": "LqVdyGLU9g3A",
        "colab": {
          "base_uri": "https://localhost:8080/"
        },
        "outputId": "66749c46-3996-4d70-9a6b-6fcced29a958"
      },
      "source": [
        "#@markdown <h3> ⬅ Start a new download (use magnet links)\n",
        "import libtorrent as lt\n",
        "import time\n",
        "import datetime\n",
        "\n",
        "def download_torrent():\n",
        "    ses = lt.session()\n",
        "    ses.listen_on(6881, 6891)\n",
        "    link = input(\"Input Torrent Link or Magnet and Press Enter: \")\n",
        "    print(link)\n",
        "\n",
        "    handle = lt.add_magnet_uri(ses, link, params)\n",
        "    # change the 0 to a 1 to download sequential - this sequential option is only if you selected zip. If not,\n",
        "    # scroll farther down.\n",
        "    handle.set_sequential_download(0)\n",
        "\n",
        "    ses.start_dht()\n",
        "    begin = time.time()\n",
        "    print(datetime.datetime.now())\n",
        "\n",
        "    print('Downloading Metadata...')\n",
        "    while not handle.has_metadata():\n",
        "        time.sleep(1)\n",
        "    print('Got Metadata, Starting Torrent Download...')\n",
        "\n",
        "    print(\"Starting\", handle.name())\n",
        "\n",
        "    while handle.status().state != lt.torrent_status.seeding:\n",
        "        s = handle.status()\n",
        "        state_str = ['queued', 'checking', 'downloading metadata',\n",
        "                     'downloading', 'finished', 'seeding', 'allocating']\n",
        "        print('%.2f%% complete (down: %.1f kb/s up: %.1f kB/s peers: %d) %s ' % \\\n",
        "              (s.progress * 100, s.download_rate / 1000, s.upload_rate / 1000, \\\n",
        "               s.num_peers, state_str[s.state]))\n",
        "        time.sleep(5)\n",
        "\n",
        "    end = time.time()\n",
        "    print(handle.name(), \"COMPLETE\")\n",
        "\n",
        "    print(\"Elapsed Time: \", int((end - begin) // 60), \"min :\", int((end - begin) % 60), \"sec\")\n",
        "\n",
        "    print(datetime.datetime.now())\n",
        "\n",
        "\n",
        "zipp = input(\"Input 'Y'/'y' to zip the torrent and place it in your drive. Otherwise, leave blank. \")\n",
        "\n",
        "if zipp == 'Y' or zipp == 'y':\n",
        "    zip_name = input(\"Input name you would like for the zip file: \")\n",
        "    import shutil\n",
        "\n",
        "    params = {\n",
        "        'save_path': '/content/temp/',\n",
        "        'storage_mode': lt.storage_mode_t(2),\n",
        "    }\n",
        "    download_torrent()\n",
        "\n",
        "    print(\"now time to zip\")\n",
        "\n",
        "    print(\"Zipping ...\")\n",
        "    final_zip_directory = '/content/drive/MyDrive/Torrent/' + zip_name\n",
        "    shutil.make_archive(final_zip_directory, 'zip', '/content/temp/')\n",
        "    shutil.rmtree('/content/temp/')\n",
        "\n",
        "else:\n",
        "    params = {\n",
        "        'save_path': '/content/Downloads/',\n",
        "        'storage_mode': lt.storage_mode_t(2),\n",
        "    }\n",
        "    download_torrent()\n",
        "\n",
        "print('\\nALL DONE!')"
      ],
      "execution_count": 5,
      "outputs": [
        {
          "output_type": "stream",
          "name": "stdout",
          "text": [
            "Input 'Y'/'y' to zip the torrent and place it in your drive. Otherwise, leave blank. \n",
            "Input Torrent Link or Magnet and Press Enter: magnet:?xt=urn:btih:ea82784cb0aab4386b3b1061cf47ada4518c7e2e&dn=Young.Sheldon.S06E18.720p.HDTV.x264-SYNCOPY%5Brartv%5D&tr=http%3A%2F%2Ftracker.trackerfix.com%3A80%2Fannounce&tr=udp%3A%2F%2F9.rarbg.me%3A2790&tr=udp%3A%2F%2F9.rarbg.to%3A2780&tr=udp%3A%2F%2Ftracker.fatkhoala.org%3A13740&tr=udp%3A%2F%2Ftracker.thinelephant.org%3A12780\n",
            "magnet:?xt=urn:btih:ea82784cb0aab4386b3b1061cf47ada4518c7e2e&dn=Young.Sheldon.S06E18.720p.HDTV.x264-SYNCOPY%5Brartv%5D&tr=http%3A%2F%2Ftracker.trackerfix.com%3A80%2Fannounce&tr=udp%3A%2F%2F9.rarbg.me%3A2790&tr=udp%3A%2F%2F9.rarbg.to%3A2780&tr=udp%3A%2F%2Ftracker.fatkhoala.org%3A13740&tr=udp%3A%2F%2Ftracker.thinelephant.org%3A12780\n",
            "2023-04-28 18:17:18.635528\n",
            "Downloading Metadata...\n",
            "Got Metadata, Starting Torrent Download...\n",
            "Starting Young.Sheldon.S06E18.720p.HDTV.x264-SYNCOPY[rarbg]\n",
            "0.00% complete (down: 2.1 kb/s up: 0.9 kB/s peers: 4) downloading \n",
            "3.46% complete (down: 1671.0 kb/s up: 52.7 kB/s peers: 10) downloading \n",
            "7.21% complete (down: 2340.0 kb/s up: 72.6 kB/s peers: 13) downloading \n",
            "11.79% complete (down: 3145.8 kb/s up: 95.9 kB/s peers: 13) downloading \n",
            "16.69% complete (down: 3654.8 kb/s up: 109.9 kB/s peers: 13) downloading \n",
            "22.40% complete (down: 4006.6 kb/s up: 120.1 kB/s peers: 13) downloading \n",
            "27.16% complete (down: 3861.4 kb/s up: 115.1 kB/s peers: 13) downloading \n",
            "32.79% complete (down: 4050.1 kb/s up: 121.3 kB/s peers: 13) downloading \n",
            "39.21% complete (down: 4337.5 kb/s up: 130.4 kB/s peers: 13) downloading \n",
            "48.48% complete (down: 6523.8 kb/s up: 216.7 kB/s peers: 13) downloading \n",
            "54.82% complete (down: 5394.2 kb/s up: 170.7 kB/s peers: 13) downloading \n",
            "60.12% complete (down: 4497.3 kb/s up: 141.3 kB/s peers: 13) downloading \n",
            "65.54% complete (down: 4395.7 kb/s up: 143.6 kB/s peers: 14) downloading \n",
            "70.45% complete (down: 4052.1 kb/s up: 136.6 kB/s peers: 14) downloading \n",
            "76.60% complete (down: 4667.0 kb/s up: 155.4 kB/s peers: 13) downloading \n",
            "83.02% complete (down: 4827.4 kb/s up: 156.5 kB/s peers: 12) downloading \n",
            "89.80% complete (down: 5049.7 kb/s up: 164.2 kB/s peers: 12) downloading \n",
            "96.23% complete (down: 5189.7 kb/s up: 165.6 kB/s peers: 12) downloading \n",
            "99.89% complete (down: 3626.2 kb/s up: 111.7 kB/s peers: 12) downloading \n",
            "Young.Sheldon.S06E18.720p.HDTV.x264-SYNCOPY[rarbg] COMPLETE\n",
            "Elapsed Time:  1 min : 44 sec\n",
            "2023-04-28 18:19:02.741458\n",
            "\n",
            "ALL DONE!\n"
          ]
        }
      ]
    },
    {
      "cell_type": "markdown",
      "metadata": {
        "id": "6I2huqscJEPn"
      },
      "source": [
        "---\n",
        "# <img src='https://szyha.github.io/RcloneLabArchive/img/title_rclonelab.png' height=\"45\" alt=\"RcloneLab\"/>"
      ]
    },
    {
      "cell_type": "code",
      "metadata": {
        "id": "RIr3CXMAGNdy",
        "cellView": "form",
        "colab": {
          "base_uri": "https://localhost:8080/",
          "height": 229
        },
        "outputId": "043a7a5a-ea2c-49e5-ac5b-237c055a60ec"
      },
      "source": [
        "# ============================= FORM ============================= #\n",
        "Mode = \"Move\" #@param [\"Off\",\"Config\", \"Copy\", \"Move\", \"Sync\", \"Checker\", \"Deduplicate\", \"Remove Empty Directories\", \"Empty Trash\", \"qBittorrent\"]\n",
        "Compare = \"Size & Mod-Time\" #@param [\"Size & Mod-Time\", \"Size & Checksum\", \"Only Mod-Time\", \"Only Size\", \"Only Checksum\"]\n",
        "Source = \"/content/Downloads\" #@param {type:\"string\"}\n",
        "Destination = \"fahad-media-crypto:/Videos\" #@param {type:\"string\"}\n",
        "Transfers = 4 #@param {type:\"slider\", min:1, max:20, step:1}\n",
        "Checkers = 20 #@param {type:\"slider\", min:1, max:40, step:1}\n",
        "#@markdown ---\n",
        "\n",
        "#@markdown <center><h3><font color=\"#3399ff\"><b>⚙️ Global Configuration ⚙️</b></font></h3></center>\n",
        "\n",
        "#@markdown ---\n",
        "Simple_Ouput = True #@param {type:\"boolean\"}\n",
        "Skip_files_that_are_newer_on_the_destination = True #@param {type:\"boolean\"}\n",
        "Skip_all_files_that_exist = True #@param {type:\"boolean\"}\n",
        "Do_not_cross_filesystem_boundaries = False\n",
        "Do_not_update_modtime_if_files_are_identical = False #@param {type:\"boolean\"}\n",
        "Large_amount_of_files_optimization = False\n",
        "Google_Drive_optimization = True #@param {type:\"boolean\"}\n",
        "Dry_Run = False #@param {type:\"boolean\"}\n",
        "Output_Log_File = \"DEBUG\" #@param [\"OFF\", \"NOTICE\", \"INFO\", \"ERROR\", \"DEBUG\"]\n",
        "Extra_Arguments = \"\" #@param {type:\"string\"}\n",
        "#@markdown ---\n",
        "\n",
        "#@markdown <center><h3><font color=\"#3399ff\"><b>↪️ Sync Configuration ↩️</b></font></h3></center>\n",
        "\n",
        "#@markdown ---\n",
        "Sync_Mode = \"Delete during transfer\" #@param [\"Delete during transfer\", \"Delete before transfering\", \"Delete after transfering\"]\n",
        "Track_Renames = False #@param {type:\"boolean\"}\n",
        "#@markdown ---\n",
        "\n",
        "#@markdown <center><h3><font color=\"#3399ff\"><b>💞 Deduplicate Configuration 💞</b></font></h3></center>\n",
        "\n",
        "#@markdown ---\n",
        "Deduplicate_Mode = \"Interactive\" #@param [\"Interactive\", \"Skip\", \"First\", \"Newest\", \"Oldest\", \"Largest\", \"Rename\"]\n",
        "Deduplicate_Use_Trash = True #@param {type:\"boolean\"}\n",
        "# ================================================================ #\n",
        "\n",
        "import os; from IPython.display import HTML, clear_output\n",
        "import sys\n",
        "\n",
        "\n",
        "if Mode != \"Off\":\n",
        "\n",
        "  # Optimized for Google Colaboratory\n",
        "  os.environ[\"bufferC\"] = \"--buffer-size 96M\"\n",
        "\n",
        "  if Compare == \"Size & Checksum\":\n",
        "    os.environ[\"compareC\"] = \"-c\"\n",
        "  elif Compare == \"Only Mod-Time\":\n",
        "    os.environ[\"compareC\"] = \"--ignore-size\"\n",
        "  elif Compare == \"Only Size\":\n",
        "    os.environ[\"compareC\"] = \"--size-only\"\n",
        "  elif Compare == \"Only Checksum\":\n",
        "    os.environ[\"compareC\"] = \"-c --ignore-size\"\n",
        "  else:\n",
        "    os.environ[\"compareC\"] = \"\"\n",
        "\n",
        "  os.environ[\"sourceC\"] = Source\n",
        "  os.environ[\"destinationC\"] = Destination\n",
        "  os.environ[\"transfersC\"] = \"--transfers \"+str(Transfers)\n",
        "  os.environ[\"checkersC\"] = \"--checkers \"+str(Checkers)\n",
        "\n",
        "  if Skip_files_that_are_newer_on_the_destination == True:\n",
        "    os.environ[\"skipnewC\"] = \"-u\"\n",
        "  else:\n",
        "    os.environ[\"skipnewC\"] = \"\"\n",
        "\n",
        "  if Skip_all_files_that_exist == True:\n",
        "    os.environ[\"skipexistC\"] = \"--ignore-existing\"\n",
        "  else:\n",
        "    os.environ[\"skipexistC\"] = \"\"\n",
        "\n",
        "  if Do_not_cross_filesystem_boundaries == True:\n",
        "    os.environ[\"nocrossfilesystemC\"] = \"--one-file-system\"\n",
        "  else:\n",
        "    os.environ[\"nocrossfilesystemC\"] = \"\"\n",
        "\n",
        "  if Do_not_update_modtime_if_files_are_identical == True:\n",
        "    os.environ[\"noupdatemodtimeC\"] = \"--no-update-modtime\"\n",
        "  else:\n",
        "    os.environ[\"noupdatemodtimeC\"] = \"\"\n",
        "\n",
        "  if Large_amount_of_files_optimization == True:\n",
        "    os.environ[\"filesoptimizeC\"] = \"--fast-list\"\n",
        "  else:\n",
        "    os.environ[\"filesoptimizeC\"] = \"\"\n",
        "\n",
        "  if Google_Drive_optimization == True:\n",
        "    os.environ[\"driveoptimizeC\"] = \"--drive-chunk-size 32M --drive-acknowledge-abuse --drive-keep-revision-forever --disable copy\"\n",
        "  else:\n",
        "    os.environ[\"driveoptimizeC\"] = \"\"\n",
        "\n",
        "  if Dry_Run == True:\n",
        "    os.environ[\"dryrunC\"] = \"-n\"\n",
        "  else:\n",
        "    os.environ[\"dryrunC\"] = \"\"\n",
        "\n",
        "  if Output_Log_File != \"OFF\":\n",
        "    os.environ[\"statsC\"] = \"--log-file=/root/.rclone_log/rclone_log.txt\"\n",
        "  else:\n",
        "    if Simple_Ouput == True:\n",
        "      os.environ[\"statsC\"] = \"-v --stats-one-line --stats=5s\"\n",
        "    else:\n",
        "      os.environ[\"statsC\"] = \"-v --stats=5s\"\n",
        "\n",
        "  if Output_Log_File == \"INFO\":\n",
        "    os.environ[\"loglevelC\"] = \"--log-level INFO\"\n",
        "  elif Output_Log_File == \"ERROR\":\n",
        "    os.environ[\"loglevelC\"] = \"--log-level ERROR\"\n",
        "  elif Output_Log_File == \"DEBUG\":\n",
        "    os.environ[\"loglevelC\"] = \"--log-level DEBUG\"\n",
        "  else:\n",
        "    os.environ[\"loglevelC\"] = \"\"\n",
        "\n",
        "  os.environ[\"extraC\"] = Extra_Arguments\n",
        "\n",
        "  if Sync_Mode == \"Delete during transfer\":\n",
        "    os.environ[\"syncmodeC\"] = \"--delete-during\"\n",
        "  elif Sync_Mode == \"Delete before transfering\":\n",
        "    os.environ[\"syncmodeC\"] = \"--delete-before\"\n",
        "  elif Sync_Mode == \"Delete after transfering\":\n",
        "    os.environ[\"syncmodeC\"] = \"--delete-after\"\n",
        "\n",
        "  if Track_Renames == True:\n",
        "    os.environ[\"trackrenamesC\"] = \"--track-renames\"\n",
        "  else:\n",
        "    os.environ[\"trackrenamesC\"] = \"\"\n",
        "\n",
        "  if Deduplicate_Mode == \"Interactive\":\n",
        "    os.environ[\"deduplicateC\"] = \"interactive\"\n",
        "  elif Deduplicate_Mode == \"Skip\":\n",
        "    os.environ[\"deduplicateC\"] = \"skip\"\n",
        "  elif Deduplicate_Mode == \"First\":\n",
        "    os.environ[\"deduplicateC\"] = \"first\"\n",
        "  elif Deduplicate_Mode == \"Newest\":\n",
        "    os.environ[\"deduplicateC\"] = \"newest\"\n",
        "  elif Deduplicate_Mode == \"Oldest\":\n",
        "    os.environ[\"deduplicateC\"] = \"oldest\"\n",
        "  elif Deduplicate_Mode == \"Largest\":\n",
        "    os.environ[\"deduplicateC\"] = \"largest\"\n",
        "  elif Deduplicate_Mode == \"Rename\":\n",
        "    os.environ[\"deduplicateC\"] = \"rename\"\n",
        "\n",
        "  if Deduplicate_Use_Trash == True:\n",
        "    os.environ[\"deduplicatetrashC\"] = \"\"\n",
        "  else:\n",
        "    os.environ[\"deduplicatetrashC\"] = \"--drive-use-trash=false\"\n",
        "\n",
        "  ### rclone Execution\n",
        "\n",
        "  if Output_Log_File != \"OFF\" and Mode != \"Config\":\n",
        "    !mkdir -p -m 666 /root/.rclone_log/\n",
        "    display(HTML(\"<center><h2 style=\\\"font-family:Trebuchet MS;color:#ce2121;\\\">Logging enables, rclone will not output log through the terminal, please wait until finished.</h2><br></center>\"))\n",
        "\n",
        "\n",
        "  if Mode == \"Config\":\n",
        "    !rclone --config=/root/.rclone.conf config\n",
        "  elif Mode == \"Copy\":\n",
        "    !rclone --config=/root/.rclone.conf copy \"$sourceC\" \"$destinationC\" $transfersC $checkersC $statsC $loglevelC $compareC $skipnewC $skipexistC $nocrossfilesystemC $noupdatemodtimeC $bufferC $filesoptimizeC $driveoptimizeC $dryrunC $extraC\n",
        "  elif Mode == \"Move\":\n",
        "    !rclone --config=/root/.rclone.conf move \"$sourceC\" \"$destinationC\" $transfersC $checkersC $statsC $loglevelC --delete-empty-src-dirs $compareC $skipnewC $skipexistC $nocrossfilesystemC $noupdatemodtimeC $bufferC $filesoptimizeC $driveoptimizeC $dryrunC $extraC\n",
        "  elif Mode == \"Sync\":\n",
        "    !rclone --config=/root/.rclone.conf sync \"$sourceC\" \"$destinationC\" $transfersC $checkersC $statsC $loglevelC $syncmodeC $trackrenamesC $compareC $skipnewC $skipexistC $nocrossfilesystemC $noupdatemodtimeC $bufferC $filesoptimizeC $driveoptimizeC $dryrunC $extraC\n",
        "  elif Mode == \"Checker\":\n",
        "    !rclone --config=/root/.rclone.conf check \"$sourceC\" \"$destinationC\" $checkersC $statsC $loglevelC $compareC $skipnewC $skipexistC $nocrossfilesystemC $noupdatemodtimeC $bufferC $filesoptimizeC $driveoptimizeC $dryrunC $extraC\n",
        "  elif Mode == \"Deduplicate\":\n",
        "    !rclone --config=/root/.rclone.conf dedupe \"$sourceC\" $checkersC $statsC $loglevelC --dedupe-mode $deduplicateC $deduplicatetrashC $compareC $skipnewC $skipexistC $nocrossfilesystemC $noupdatemodtimeC $bufferC $filesoptimizeC $driveoptimizeC $dryrunC $extraC\n",
        "  elif Mode == \"Remove Empty Directories\":\n",
        "    !rclone --config=/root/.rclone.conf rmdirs \"$sourceC\" $statsC $loglevelC $dryrunC $extraC\n",
        "  elif Mode == \"Empty Trash\":\n",
        "    !rclone --config=/root/.rclone.conf cleanup \"$sourceC\" $statsC $loglevelC $dryrunC $extraC\n",
        "  elif Mode == \"qBittorrent\":\n",
        "    !chmod -R 666 /content/qBittorrent/\n",
        "    !rclone --config=/root/.rclone.conf move \"/content/qBittorrent/\" \"$destinationC\" $transfersC $checkersC $statsC $loglevelC --delete-empty-src-dirs --exclude **/.unwanted/ $compareC $skipnewC $skipexistC $nocrossfilesystemC $noupdatemodtimeC $bufferC $filesoptimizeC $driveoptimizeC $dryrunC $extraC\n",
        "\n",
        "  ### Log Output\n",
        "\n",
        "  if Output_Log_File != \"OFF\" and Mode != \"Config\":\n",
        "    ### Rename log file and output settings.\n",
        "    !mv /root/.rclone_log/rclone_log.txt /root/.rclone_log/rclone_log_$(date +%Y-%m-%d_%H.%M.%S).txt\n",
        "    with open(\"/root/.rclone_log/\" + Mode + \"_settings.txt\", \"w\") as f:\n",
        "      f.write(\"Mode: \" + Mode + \\\n",
        "              \"\\nCompare: \" + Compare + \\\n",
        "              \"\\nSource: \\\"\" + Source + \\\n",
        "              \"\\\"\\nDestination: \\\"\" + Destination + \\\n",
        "              \"\\\"\\nTransfers: \" + str(Transfers) + \\\n",
        "              \"\\nCheckers: \" + str(Checkers) + \\\n",
        "              \"\\nSkip files that are newer on the destination: \" + str(Skip_files_that_are_newer_on_the_destination) + \\\n",
        "              \"\\nSkip all files that exist: \" + str(Skip_all_files_that_exist) + \\\n",
        "              \"\\nDo not cross filesystem boundaries: \" + str(Do_not_cross_filesystem_boundaries) + \\\n",
        "              \"\\nDo not update modtime if files are identical: \" + str(Do_not_update_modtime_if_files_are_identical) + \\\n",
        "              \"\\nDry-Run: \" + str(Dry_Run) + \\\n",
        "              \"\\nOutput Log Level: \" + Output_Log_File + \\\n",
        "              \"\\nExtra Arguments: \\\"\" + Extra_Arguments + \\\n",
        "              \"\\\"\\nSync Moden: \" + Sync_Mode + \\\n",
        "              \"\\nTrack Renames: \" + str(Track_Renames) + \\\n",
        "              \"\\nDeduplicate Mode: \" + Deduplicate_Mode + \\\n",
        "              \"\\nDeduplicate Use Trash: \" + str(Deduplicate_Use_Trash))\n",
        "    ### Compressing log file.\n",
        "    !rm -f /root/rclone_log.zip\n",
        "    !zip -r -q -j -9 /root/rclone_log.zip /root/.rclone_log/\n",
        "    !rm -rf /root/.rclone_log/\n",
        "    !mkdir -p -m 666 /root/.rclone_log/\n",
        "    ### Send Log\n",
        "    if os.path.isfile(\"/root/rclone_log.zip\") == True:\n",
        "      try:\n",
        "        files.download(\"/root/rclone_log.zip\")\n",
        "        !rm -f /root/rclone_log.zip\n",
        "        display(HTML(\"<center><h2 style=\\\"font-family:Trebuchet MS;color:#446785;\\\">Sending log to your browser...</h2><br></center>\"))\n",
        "      except:\n",
        "        !mv /root/rclone_log.zip /content/rclone_log_$(date +%Y-%m-%d_%H.%M.%S).zip\n",
        "        display(HTML(\"<center><h2 style=\\\"font-family:Trebuchet MS;color:#446785;\\\">You can use file explorer to download the log file.</h2><br></center>\"))\n",
        "    else:\n",
        "      clear_output(wait=True)\n",
        "      display(HTML(\"<center><h2 style=\\\"font-family:Trebuchet MS;color:#ce2121;\\\">There is no log file.</h2><br></center>\"))\n",
        "\n",
        "  ### Operation has been successfully completed.\n",
        "  if os.path.isfile(\"/usr/bin/rclone\") == False:\n",
        "    clear_output(wait=True)\n",
        "    display(HTML(\"<center><h2 style=\\\"font-family:Trebuchet MS;color:#ce2121;\\\">❌ Please run the installation cell above first.</h2><br></center>\"))\n",
        "  elif Mode != \"Config\":\n",
        "    display(HTML(\"<center><h2 style=\\\"font-family:Trebuchet MS;color:#00b24c;\\\">✅ Operation has been successfully completed.</h2><br></center>\"))\n",
        "else:\n",
        "  !echo \"doing nothing because the mode is set to off\""
      ],
      "execution_count": 6,
      "outputs": [
        {
          "output_type": "display_data",
          "data": {
            "text/plain": [
              "<IPython.core.display.HTML object>"
            ],
            "text/html": [
              "<center><h2 style=\"font-family:Trebuchet MS;color:#ce2121;\">Logging enables, rclone will not output log through the terminal, please wait until finished.</h2><br></center>"
            ]
          },
          "metadata": {}
        },
        {
          "output_type": "display_data",
          "data": {
            "text/plain": [
              "<IPython.core.display.Javascript object>"
            ],
            "application/javascript": [
              "\n",
              "    async function download(id, filename, size) {\n",
              "      if (!google.colab.kernel.accessAllowed) {\n",
              "        return;\n",
              "      }\n",
              "      const div = document.createElement('div');\n",
              "      const label = document.createElement('label');\n",
              "      label.textContent = `Downloading \"${filename}\": `;\n",
              "      div.appendChild(label);\n",
              "      const progress = document.createElement('progress');\n",
              "      progress.max = size;\n",
              "      div.appendChild(progress);\n",
              "      document.body.appendChild(div);\n",
              "\n",
              "      const buffers = [];\n",
              "      let downloaded = 0;\n",
              "\n",
              "      const channel = await google.colab.kernel.comms.open(id);\n",
              "      // Send a message to notify the kernel that we're ready.\n",
              "      channel.send({})\n",
              "\n",
              "      for await (const message of channel.messages) {\n",
              "        // Send a message to notify the kernel that we're ready.\n",
              "        channel.send({})\n",
              "        if (message.buffers) {\n",
              "          for (const buffer of message.buffers) {\n",
              "            buffers.push(buffer);\n",
              "            downloaded += buffer.byteLength;\n",
              "            progress.value = downloaded;\n",
              "          }\n",
              "        }\n",
              "      }\n",
              "      const blob = new Blob(buffers, {type: 'application/binary'});\n",
              "      const a = document.createElement('a');\n",
              "      a.href = window.URL.createObjectURL(blob);\n",
              "      a.download = filename;\n",
              "      div.appendChild(a);\n",
              "      a.click();\n",
              "      div.remove();\n",
              "    }\n",
              "  "
            ]
          },
          "metadata": {}
        },
        {
          "output_type": "display_data",
          "data": {
            "text/plain": [
              "<IPython.core.display.Javascript object>"
            ],
            "application/javascript": [
              "download(\"download_bdfff957-56ea-4d6c-ac3f-868938106c43\", \"rclone_log.zip\", 2166)"
            ]
          },
          "metadata": {}
        },
        {
          "output_type": "display_data",
          "data": {
            "text/plain": [
              "<IPython.core.display.HTML object>"
            ],
            "text/html": [
              "<center><h2 style=\"font-family:Trebuchet MS;color:#446785;\">Sending log to your browser...</h2><br></center>"
            ]
          },
          "metadata": {}
        },
        {
          "output_type": "display_data",
          "data": {
            "text/plain": [
              "<IPython.core.display.HTML object>"
            ],
            "text/html": [
              "<center><h2 style=\"font-family:Trebuchet MS;color:#00b24c;\">✅ Operation has been successfully completed.</h2><br></center>"
            ]
          },
          "metadata": {}
        }
      ]
    },
    {
      "cell_type": "markdown",
      "metadata": {
        "id": "nu66pMoCuTQG"
      },
      "source": [
        "# 📚 Follow me on GitHub for more: [_@Fahaddz_](https://github.com/Fahaddz)\n",
        "# 📦 Repo: [Github](https://github.com/Fahaddz/Torrent-to-Google-Drive-using-Rclone)"
      ]
    }
  ]
}